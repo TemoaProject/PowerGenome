{
 "cells": [
  {
   "cell_type": "code",
   "execution_count": 1,
   "metadata": {
    "scrolled": false
   },
   "outputs": [],
   "source": [
    "%load_ext autoreload\n",
    "%autoreload 2\n",
    "import warnings\n",
    "warnings.simplefilter(\"ignore\")\n",
    "\n",
    "import geopandas as gpd\n",
    "import numpy as np\n",
    "import pandas as pd\n",
    "from powergenome.generators import GeneratorClusters\n",
    "from powergenome.GenX import reduce_time_domain, add_misc_gen_values\n",
    "from powergenome.params import DATA_PATHS\n",
    "\n",
    "from powergenome.external_data import (\n",
    "    make_demand_response_profiles,\n",
    "    make_generator_variability,\n",
    ")\n",
    "\n",
    "from powergenome.load_profiles import (\n",
    "    make_load_curves, \n",
    "    add_load_growth, \n",
    "    make_final_load_curves, \n",
    "    make_distributed_gen_profiles,\n",
    ")\n",
    "from powergenome.external_data import make_demand_response_profiles\n",
    "from powergenome.util import (\n",
    "    build_scenario_settings,\n",
    "    init_pudl_connection,\n",
    "    load_settings,\n",
    "    check_settings,\n",
    "    reverse_dict_of_lists,\n",
    "    remove_feb_29\n",
    ")\n",
    "\n",
    "from pathlib import Path\n",
    "import itertools\n",
    "\n",
    "from powergenome.generators import load_ipm_shapefile\n",
    "from powergenome.GenX import (\n",
    "    network_line_loss,\n",
    "    network_max_reinforcement,\n",
    "    network_reinforcement_cost,\n",
    ")\n",
    "from powergenome.transmission import (\n",
    "    agg_transmission_constraints,\n",
    "    transmission_line_distance,\n",
    ")\n",
    "\n",
    "pd.options.display.max_columns = 200"
   ]
  },
  {
   "cell_type": "code",
   "execution_count": 2,
   "metadata": {},
   "outputs": [],
   "source": [
    "import pandas as pd\n",
    "import numpy as np\n",
    "import os\n",
    "import sqlite3\n",
    "import shutil\n",
    "import datetime\n",
    "import matplotlib.pyplot as plt"
   ]
  },
  {
   "cell_type": "code",
   "execution_count": 3,
   "metadata": {},
   "outputs": [],
   "source": [
    "single_region = 0\n",
    "if single_region==0:\n",
    "    run_folder = 'OEO_regional'\n",
    "    settings_file = 'OEO_regional_settings.yml'\n",
    "else:\n",
    "    run_folder = 'OEO_national'\n",
    "    settings_file = 'OEO_national_settings.yml'\n",
    "scenario = \"p6\"\n",
    "elec_only=0"
   ]
  },
  {
   "cell_type": "code",
   "execution_count": 4,
   "metadata": {},
   "outputs": [
    {
     "name": "stderr",
     "output_type": "stream",
     "text": [
      "\n",
      "    *****************************\n",
      "    The ATB technology \"LandbasedWind_Class4\" listed in your settings file under 'atb_new_gen'\n",
      "    is not fully specified in the 'cost_multiplier_technology_map' settings parameter.\n",
      "    Part of the <tech>_<tech_detail> string might be included, but it is best practice to\n",
      "    include the full name in this format. Check your settings file.\n",
      "        \n",
      "\n",
      "    *****************************\n",
      "    The ATB technology \"OffShoreWind_Class10\" listed in your settings file under 'atb_new_gen'\n",
      "    is not fully specified in the 'cost_multiplier_technology_map' settings parameter.\n",
      "    Part of the <tech>_<tech_detail> string might be included, but it is best practice to\n",
      "    include the full name in this format. Check your settings file.\n",
      "        \n",
      "\n",
      "    *****************************\n",
      "    The ATB technology \"UtilityPV_Class1\" listed in your settings file under 'atb_new_gen'\n",
      "    is not fully specified in the 'cost_multiplier_technology_map' settings parameter.\n",
      "    Part of the <tech>_<tech_detail> string might be included, but it is best practice to\n",
      "    include the full name in this format. Check your settings file.\n",
      "        \n",
      "\n",
      "    *****************************\n",
      "    The additional user-specified technology \"CSP_Class5_10hoursTES\" listed in your settings file under\n",
      "    'additional_new_gen' is not fully specified in the 'cost_multiplier_technology_map'\n",
      "    settings parameter. Part of the name string might be included, but it is best practice\n",
      "    to include the full name in this format. Check your settings file.\n",
      "        \n",
      "\n",
      "    *****************************\n",
      "    The additional user-specified technology \"ResPV_Class3\" listed in your settings file under\n",
      "    'additional_new_gen' is not fully specified in the 'cost_multiplier_technology_map'\n",
      "    settings parameter. Part of the name string might be included, but it is best practice\n",
      "    to include the full name in this format. Check your settings file.\n",
      "        \n",
      "\n",
      "    *****************************\n",
      "    The additional user-specified technology \"Geothermal_hydrobinary_mid\" listed in your settings file under\n",
      "    'additional_new_gen' is not fully specified in the 'cost_multiplier_technology_map'\n",
      "    settings parameter. Part of the name string might be included, but it is best practice\n",
      "    to include the full name in this format. Check your settings file.\n",
      "        \n",
      "\n",
      "    *****************************\n",
      "    The additional user-specified technology \"Geothermal_hydroflash_mid\" listed in your settings file under\n",
      "    'additional_new_gen' is not fully specified in the 'cost_multiplier_technology_map'\n",
      "    settings parameter. Part of the name string might be included, but it is best practice\n",
      "    to include the full name in this format. Check your settings file.\n",
      "        \n",
      "\n",
      "    *****************************\n",
      "    The model region CA is not included in the settings parameter `aeo_fuel_region_map`\"\n",
      "    *****************************\n",
      "            \n",
      "\n",
      "    *****************************\n",
      "    The model region NW is not included in the settings parameter `aeo_fuel_region_map`\"\n",
      "    *****************************\n",
      "            \n",
      "\n",
      "    *****************************\n",
      "    The model region SW is not included in the settings parameter `aeo_fuel_region_map`\"\n",
      "    *****************************\n",
      "            \n",
      "\n",
      "    *****************************\n",
      "    The model region TX is not included in the settings parameter `aeo_fuel_region_map`\"\n",
      "    *****************************\n",
      "            \n",
      "\n",
      "    *****************************\n",
      "    The model region N_CEN is not included in the settings parameter `aeo_fuel_region_map`\"\n",
      "    *****************************\n",
      "            \n",
      "\n",
      "    *****************************\n",
      "    The model region CEN is not included in the settings parameter `aeo_fuel_region_map`\"\n",
      "    *****************************\n",
      "            \n",
      "\n",
      "    *****************************\n",
      "    The model region SE is not included in the settings parameter `aeo_fuel_region_map`\"\n",
      "    *****************************\n",
      "            \n",
      "\n",
      "    *****************************\n",
      "    The model region MID_AT is not included in the settings parameter `aeo_fuel_region_map`\"\n",
      "    *****************************\n",
      "            \n",
      "\n",
      "    *****************************\n",
      "    The model region NE is not included in the settings parameter `aeo_fuel_region_map`\"\n",
      "    *****************************\n",
      "            \n"
     ]
    }
   ],
   "source": [
    "#pudl_engine, pudl_out = init_pudl_connection()\n",
    "cwd = Path.cwd()\n",
    "\n",
    "settings_path = (\n",
    "    cwd / run_folder / settings_file\n",
    ")\n",
    "settings = load_settings(settings_path)\n",
    "settings[\"input_folder\"] = settings_path.parent / settings[\"input_folder\"]\n",
    "scenario_definitions = pd.read_csv(\n",
    "    settings[\"input_folder\"] / settings[\"scenario_definitions_fn\"]\n",
    ")\n",
    "scenario_settings = build_scenario_settings(settings, scenario_definitions)\n",
    "\n",
    "pudl_engine, pudl_out, pg_engine = init_pudl_connection(\n",
    "    freq=\"AS\",\n",
    "    start_year=min(settings.get(\"data_years\")),\n",
    "    end_year=max(settings.get(\"data_years\")),\n",
    ")\n",
    "\n",
    "check_settings(settings, pg_engine)"
   ]
  },
  {
   "cell_type": "code",
   "execution_count": 5,
   "metadata": {},
   "outputs": [],
   "source": [
    "all_periods = list(scenario_settings.keys())\n",
    "start_year = all_periods[0]\n",
    "file_prefix = str(settings_path).replace('.yml','_')\n",
    "if elec_only==1:\n",
    "    file_prefix += 'elec_'"
   ]
  },
  {
   "cell_type": "code",
   "execution_count": 6,
   "metadata": {},
   "outputs": [
    {
     "name": "stdout",
     "output_type": "stream",
     "text": [
      "210.70000000000002  MW without lat/lon\n"
     ]
    },
    {
     "name": "stderr",
     "output_type": "stream",
     "text": [
      "No model tag values found for DR ('NoneType' object has no attribute 'items')\n",
      "Transmission investment costs are missing or zero for some resources and will not be included in the total investment costs.\n",
      "No model tag values found for DR ('NoneType' object has no attribute 'items')\n"
     ]
    },
    {
     "name": "stdout",
     "output_type": "stream",
     "text": [
      "210.70000000000002  MW without lat/lon\n"
     ]
    },
    {
     "name": "stderr",
     "output_type": "stream",
     "text": [
      "No model tag values found for DR ('NoneType' object has no attribute 'items')\n",
      "Transmission investment costs are missing or zero for some resources and will not be included in the total investment costs.\n",
      "No model tag values found for DR ('NoneType' object has no attribute 'items')\n"
     ]
    },
    {
     "name": "stdout",
     "output_type": "stream",
     "text": [
      "210.70000000000002  MW without lat/lon\n"
     ]
    },
    {
     "name": "stderr",
     "output_type": "stream",
     "text": [
      "No model tag values found for DR ('NoneType' object has no attribute 'items')\n",
      "Transmission investment costs are missing or zero for some resources and will not be included in the total investment costs.\n",
      "No model tag values found for DR ('NoneType' object has no attribute 'items')\n"
     ]
    },
    {
     "name": "stdout",
     "output_type": "stream",
     "text": [
      "210.70000000000002  MW without lat/lon\n"
     ]
    },
    {
     "name": "stderr",
     "output_type": "stream",
     "text": [
      "No model tag values found for DR ('NoneType' object has no attribute 'items')\n",
      "Transmission investment costs are missing or zero for some resources and will not be included in the total investment costs.\n",
      "No model tag values found for DR ('NoneType' object has no attribute 'items')\n"
     ]
    },
    {
     "name": "stdout",
     "output_type": "stream",
     "text": [
      "210.70000000000002  MW without lat/lon\n"
     ]
    },
    {
     "name": "stderr",
     "output_type": "stream",
     "text": [
      "No model tag values found for DR ('NoneType' object has no attribute 'items')\n",
      "Transmission investment costs are missing or zero for some resources and will not be included in the total investment costs.\n",
      "No model tag values found for DR ('NoneType' object has no attribute 'items')\n"
     ]
    },
    {
     "name": "stdout",
     "output_type": "stream",
     "text": [
      "210.70000000000002  MW without lat/lon\n"
     ]
    },
    {
     "name": "stderr",
     "output_type": "stream",
     "text": [
      "No model tag values found for DR ('NoneType' object has no attribute 'items')\n",
      "Transmission investment costs are missing or zero for some resources and will not be included in the total investment costs.\n",
      "No model tag values found for DR ('NoneType' object has no attribute 'items')\n"
     ]
    }
   ],
   "source": [
    "new_gen = pd.DataFrame()\n",
    "for year in all_periods[1:]: #new gen for start year is included in all_gen\n",
    "    gc = GeneratorClusters(pudl_engine, pudl_out, pg_engine, scenario_settings[year][scenario])\n",
    "    new_gen_year = gc.create_new_generators()\n",
    "    new_gen_year.loc[:,'operating_year'] = year\n",
    "    new_gen = pd.concat([new_gen, new_gen_year]) #create new generators for periods beyond the first\n",
    "    "
   ]
  },
  {
   "cell_type": "code",
   "execution_count": 7,
   "metadata": {},
   "outputs": [],
   "source": [
    "if elec_only==1:\n",
    "    load_curves = make_final_load_curves(pudl_engine, scenario_settings[start_year][scenario])\n",
    "    elec_demand = load_curves.copy()\n",
    "    for year in all_periods[1:]:\n",
    "        load_curves_year = make_final_load_curves(pudl_engine, scenario_settings[year][scenario])\n",
    "        load_curves_year.loc[:,'periods']=year\n",
    "        elec_demand = pd.concat([elec_demand, load_curves_year])\n",
    "else:\n",
    "    load_curves = pd.read_csv('../oeo/data_aggregation/buildings/TablesForDB/EFS_hourly_DSD.csv')\n",
    "    if single_region==1:\n",
    "        load_curves = load_curves.drop(columns='Unnamed: 0').groupby(by=['LocalHourID', 'demand_name']).sum().reset_index().pivot_table(columns='demand_name', index='LocalHourID')['dds']\n",
    "    else:\n",
    "        load_curves['region_demand'] = load_curves['Region_OEO'] + '_' + load_curves['demand_name']\n",
    "        load_curves = load_curves[['region_demand', 'LocalHourID', 'dds']]\n",
    "        load_curves = load_curves.set_index('LocalHourID').pivot(columns='region_demand')['dds'].reset_index(drop=True)"
   ]
  },
  {
   "cell_type": "code",
   "execution_count": 8,
   "metadata": {},
   "outputs": [
    {
     "name": "stdout",
     "output_type": "stream",
     "text": [
      "210.70000000000002  MW without lat/lon\n"
     ]
    },
    {
     "name": "stderr",
     "output_type": "stream",
     "text": [
      "********************************\n",
      "When adding plant entity/boiler info to generators and filling missing seasonal capacity values, technologyCoal Integrated Gasification Combined Cycle changed capacity from 779.0 to 965.5\n",
      "********************************\n",
      "********************************\n",
      "When adding plant entity/boiler info to generators and filling missing seasonal capacity values, technologyConventional Hydroelectric changed capacity from 78253.6 to 78451.4\n",
      "********************************\n",
      "********************************\n",
      "When adding plant entity/boiler info to generators and filling missing seasonal capacity values, technologyNatural Gas Fired Combined Cycle changed capacity from 284504.1 to 287637.1\n",
      "********************************\n",
      "********************************\n",
      "When adding plant entity/boiler info to generators and filling missing seasonal capacity values, technologyNatural Gas Fired Combustion Turbine changed capacity from 139964.3 to 140514.5\n",
      "********************************\n",
      "********************************\n",
      "When adding plant entity/boiler info to generators and filling missing seasonal capacity values, technologyNatural Gas Steam Turbine changed capacity from 65880.3 to 66171.4\n",
      "********************************\n",
      "********************************\n",
      "When adding plant entity/boiler info to generators and filling missing seasonal capacity values, technologyPetroleum Liquids changed capacity from 30016.5 to 30073.9\n",
      "********************************\n",
      "********************************\n",
      "When adding plant entity/boiler info to generators and filling missing seasonal capacity values, technologySolar Photovoltaic changed capacity from 24758.9 to 24857.0\n",
      "********************************\n"
     ]
    },
    {
     "name": "stdout",
     "output_type": "stream",
     "text": [
      "Creating gdf\n",
      "['Batteries', 'Onshore Wind Turbine', 'Solar Photovoltaic', 'Natural Gas Fired Combustion Turbine', 'Other_peaker', 'Natural Gas Fired Combined Cycle', 'Natural Gas with Compressed Air Storage', 'Biomass', 'Natural Gas Steam Turbine', 'Other Natural Gas', 'Conventional Hydroelectric', 'Nuclear', 'Geothermal', 'All Other']\n",
      "Creating gdf\n",
      "['Onshore Wind Turbine', 'Solar Photovoltaic', 'Natural Gas Fired Combined Cycle', 'Natural Gas Fired Combustion Turbine', 'Batteries', 'Conventional Hydroelectric', 'Other_peaker', 'All Other', 'Other Gases', 'Petroleum Coke', 'Conventional Steam Coal', 'Flywheels', 'Biomass', 'Natural Gas Steam Turbine', 'Other Natural Gas', 'Hydroelectric Pumped Storage', 'Geothermal']\n"
     ]
    },
    {
     "name": "stderr",
     "output_type": "stream",
     "text": [
      "No model tag values found for DR ('NoneType' object has no attribute 'items')\n",
      "No model tag values found for DR ('NoneType' object has no attribute 'items')\n",
      "Transmission investment costs are missing or zero for some resources and will not be included in the total investment costs.\n",
      "No model tag values found for DR ('NoneType' object has no attribute 'items')\n"
     ]
    }
   ],
   "source": [
    "gc = GeneratorClusters(pudl_engine, pudl_out, pg_engine, scenario_settings[start_year][scenario])\n",
    "all_gens = gc.create_all_generators() #create existing and new generators for the first time period\n",
    "\n",
    "#add misc_values from misc_gen_inputs_fn file in extra_inputs folder\n",
    "all_gens = add_misc_gen_values(all_gens,settings)\n",
    "new_gen = add_misc_gen_values(new_gen,settings)\n",
    "\n",
    "gen_variability = make_generator_variability(all_gens)"
   ]
  },
  {
   "cell_type": "code",
   "execution_count": 9,
   "metadata": {},
   "outputs": [],
   "source": [
    "(\n",
    "    reduced_resource_profile,\n",
    "    reduced_load_profile,\n",
    "    time_series_mapping,\n",
    "    representative_point,\n",
    ") = reduce_time_domain(gen_variability, load_curves, scenario_settings[start_year][scenario])"
   ]
  },
  {
   "cell_type": "code",
   "execution_count": 10,
   "metadata": {},
   "outputs": [],
   "source": [
    "if len(settings['region_aggregations'])>1:\n",
    "    transmission = agg_transmission_constraints(pg_engine=pg_engine, settings=settings)\n",
    "    model_regions_gdf = load_ipm_shapefile(settings)\n",
    "    transmission = transmission_line_distance(\n",
    "        trans_constraints_df=transmission,\n",
    "        ipm_shapefile=model_regions_gdf,\n",
    "        settings=settings,\n",
    "    )\n",
    "    transmission = network_line_loss(transmission=transmission, settings=settings)\n",
    "    transmission = network_reinforcement_cost(transmission=transmission, settings=settings)\n",
    "    transmission = network_max_reinforcement(transmission=transmission, settings=settings)\n",
    "    transmission.to_csv(file_prefix + 'transmission.csv', index=False)"
   ]
  },
  {
   "cell_type": "code",
   "execution_count": 11,
   "metadata": {
    "scrolled": false
   },
   "outputs": [],
   "source": [
    "gen_variability.to_csv(file_prefix + 'gen_variability.csv', index=False)\n",
    "load_curves.to_csv(file_prefix + 'load_curves.csv', index=False)\n",
    "reduced_load_profile.to_csv(file_prefix + 'reduced_load_profile_2P_2D.csv', index=False)\n",
    "time_series_mapping.to_csv(file_prefix + 'time_series_mapping_2P_2D.csv', index=False)\n",
    "reduced_resource_profile.to_csv(file_prefix + 'reduced_resource_2P_2D.csv', index=False)\n",
    "all_gens.to_csv(file_prefix + 'all_gens.csv', index=False)\n",
    "new_gen.to_csv(file_prefix + 'new_gen.csv', index=False)"
   ]
  },
  {
   "cell_type": "code",
   "execution_count": 12,
   "metadata": {},
   "outputs": [],
   "source": [
    "#additional time-domain combinations of periods and days per period.\n",
    "for P,D in [[3,4],[4,6],[6,8], [3,7], [2,7]]:\n",
    "    scenario_settings[start_year][scenario]['time_domain_days_per_period'] = D\n",
    "    scenario_settings[start_year][scenario]['time_domain_periods'] = P\n",
    "    (\n",
    "        reduced_resource_profile,\n",
    "        reduced_load_profile,\n",
    "        time_series_mapping,\n",
    "        representative_point\n",
    "    ) = reduce_time_domain(gen_variability, load_curves, scenario_settings[start_year][scenario])\n",
    "    reduced_load_profile.to_csv(file_prefix + 'reduced_load_profile_' + str(P) + 'P_' + str(D) + 'D.csv', index=False)\n",
    "    time_series_mapping.to_csv(file_prefix + 'time_series_mapping_' + str(P) + 'P_' + str(D) + 'D.csv', index=False)\n",
    "    reduced_resource_profile.to_csv(file_prefix + 'reduced_resource_' + str(P) + 'P_' + str(D) + 'D.csv', index=False)"
   ]
  },
  {
   "cell_type": "code",
   "execution_count": 13,
   "metadata": {},
   "outputs": [],
   "source": [
    "gen_variability_zephyr = pd.read_csv('../../zephyr-main/zephyr_wind_solar_cfs.csv',index_col=0)"
   ]
  },
  {
   "cell_type": "code",
   "execution_count": 14,
   "metadata": {},
   "outputs": [],
   "source": [
    "#create zephyr files\n",
    "for P,D in [[2,2],[3,4],[4,6],[6,8], [3,7], [2,7]]:\n",
    "    scenario_settings[start_year][scenario]['time_domain_days_per_period'] = D\n",
    "    scenario_settings[start_year][scenario]['time_domain_periods'] = P\n",
    "    (\n",
    "        reduced_resource_profile,\n",
    "        reduced_load_profile,\n",
    "        time_series_mapping,\n",
    "        representative_point\n",
    "    ) = reduce_time_domain(gen_variability_zephyr, load_curves, scenario_settings[start_year][scenario])\n",
    "    reduced_load_profile.to_csv(file_prefix + 'zephyr_reduced_load_profile_' + str(P) + 'P_' + str(D) + 'D.csv', index=False)\n",
    "    time_series_mapping.to_csv(file_prefix + 'zephyr_time_series_mapping_' + str(P) + 'P_' + str(D) + 'D.csv', index=False)\n",
    "    reduced_resource_profile.to_csv(file_prefix + 'zephyr_reduced_resource_' + str(P) + 'P_' + str(D) + 'D.csv', index=False)"
   ]
  }
 ],
 "metadata": {
  "kernelspec": {
   "display_name": "Python 3 (ipykernel)",
   "language": "python",
   "name": "python3"
  },
  "language_info": {
   "codemirror_mode": {
    "name": "ipython",
    "version": 3
   },
   "file_extension": ".py",
   "mimetype": "text/x-python",
   "name": "python",
   "nbconvert_exporter": "python",
   "pygments_lexer": "ipython3",
   "version": "3.9.10"
  },
  "toc": {
   "base_numbering": 1,
   "nav_menu": {},
   "number_sections": true,
   "sideBar": true,
   "skip_h1_title": false,
   "title_cell": "Table of Contents",
   "title_sidebar": "Contents",
   "toc_cell": false,
   "toc_position": {},
   "toc_section_display": true,
   "toc_window_display": false
  }
 },
 "nbformat": 4,
 "nbformat_minor": 4
}
